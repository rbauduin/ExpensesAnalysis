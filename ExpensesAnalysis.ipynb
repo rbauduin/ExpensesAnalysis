{
 "cells": [
  {
   "cell_type": "markdown",
   "metadata": {},
   "source": [
    "# Expenses analysis\n",
    "\n",
    "## Overview\n",
    "\n",
    "This Jupyter notebook, using F# as code cells language, is meant to analyse expenses provided in a CSV file at the location `/notebooks/expenses.csv`. I run it with  [IFSharp](https://github.com/fsprojects/IfSharp) in a docker container. [Having built the docker image](https://github.com/fsprojects/IfSharp#running-inside-a-docker-container) and named it `ifsharp`, I mount my local directory holding the expenses.csv file in the container with the command \n",
    "```\n",
    "docker run -v /my/path/to/Documents/ipython:/notebooks -p 8888:8888 ifsharp\n",
    "```\n",
    "\n",
    "The CSV file format handled is the one exported from the Android application Hello Expense, but providing the same format from another app will work too. The lines of the csv file has to be:\n",
    "```\n",
    "\"date\",\"Category\",\"amount\",\"currenct\",\"Note\",\"CommaSeparatedTags\"\n",
    "```\n",
    "For example\n",
    "```\n",
    "\"21/1/2018\",\"Other\",\"38,72\",\"€\",\"ISP\",\"Home,Internet\"\n",
    "```\n",
    "## Parameters\n",
    "\n",
    "All charts and computations are based on the list of expenses in `taggedExpenses`, which is build in the secion \"Main Expenses List computation\". Filtering expenses at that level will impact all charts in this notebook.\n",
    "If specific parameters are available for a section, those are specified at the start of the section."
   ]
  },
  {
   "cell_type": "code",
   "execution_count": null,
   "metadata": {},
   "outputs": [],
   "source": [
    "#load \"Paket.fsx\"\n",
    "Paket.Package [\"XPlot.Plotly\";\"MathNet.Numerics\"; \"MathNet.Numerics.FSharp\"; \"FSharp.Data\"]\n",
    "#load \"XPlot.Plotly.fsx\"\n",
    "#load \"Paket.Generated.Refs.fsx\"\n",
    "\n",
    "\n",
    "open MathNet.Numerics\n",
    "open System\n",
    "open XPlot.Plotly\n",
    "open FSharp.Data\n",
    "\n",
    "let headers = [\"date\",\"category\",\"amount\",\"currency\", \"note\",\"tags\"]\n",
    "\n",
    "\"OK\""
   ]
  },
  {
   "cell_type": "code",
   "execution_count": null,
   "metadata": {},
   "outputs": [],
   "source": [
    "(* Defining types *)\n",
    "\n",
    "\n",
    "(* Change the culture in the next line if you use another float format than 1.245,45 (continental europe format) *)\n",
    "type Expenses = CsvProvider<\"/notebooks/expenses.csv\",HasHeaders=false, Schema=\"date(date),category(string),amount(float),currency(string),note(string),tags(string)\", Culture=\"DE\">\n",
    "let e = Expenses.Load(\"/notebooks/expenses.csv\")\n",
    "(* define a type for our expenses where tags are put in a list (and not one string containing comma spearated tags)  *)\n",
    "type TaggedExpense = { Date : DateTime ; Category:  string ; Amount: double ; Currency: string ; Note: string; Tags: string list}\n"
   ]
  },
  {
   "cell_type": "markdown",
   "metadata": {},
   "source": [
    "## Filters\n",
    "These are example function that can be used to filter the `taggedExpenses` list.\n",
    "Notes and tags available are listed below (sections \"Existing Notes\" and \"Existing Tags\").\n",
    "To use these filters, just add a call at the end of the computation of `taggedExpenses`. Here is an example to keep only expenses that where tagged with `Travel`:\n",
    "```\n",
    "let taggedExpenses = e.Rows |>Seq.map(expensesTagger) |> Seq.toList |> List.filter (tagFinder \"Travel\")\n",
    "```"
   ]
  },
  {
   "cell_type": "code",
   "execution_count": null,
   "metadata": {},
   "outputs": [],
   "source": [
    "(* Filter functions\n",
    "*)\n",
    "let tagFinder (tag:string) (r:TaggedExpense) :bool = r.Tags |> List.contains tag\n",
    "let noteFinder (note:string) (r:TaggedExpense) :bool = (r.Note=note)\n",
    "let tagExcluder (tag:string) (r:TaggedExpense) :bool = not (r.Tags |> List.contains tag)\n",
    "let totalAmount l = l|> List.fold(fun acc r -> acc+r.Amount) 0.\n",
    "\"OK\""
   ]
  },
  {
   "cell_type": "markdown",
   "metadata": {},
   "source": [
    "## Main Expenses List computation"
   ]
  },
  {
   "cell_type": "code",
   "execution_count": null,
   "metadata": {},
   "outputs": [],
   "source": [
    "\n",
    "(* convert tags string to tags list*)\n",
    "let expensesTagger (r:Expenses.Row) :TaggedExpense = \n",
    "         let tagsSeparator = System.Text.RegularExpressions.Regex(@\"\\s*,\\s*\") in\n",
    "         { Date=r.Date; \n",
    "           Category = r.Category; \n",
    "           Amount =  r.Amount; \n",
    "           Currency = r.Currency; \n",
    "           Note= r.Note; \n",
    "           Tags=r.Tags|> tagsSeparator.Split |> Seq.toList ;\n",
    "         }\n",
    "\n",
    "(* Sequence of rows with tags list*)\n",
    "let taggedExpenses = e.Rows |>Seq.map(expensesTagger) |> Seq.toList \n",
    "\n",
    "\n",
    "let tags = taggedExpenses|> List.map(fun r -> r.Tags) |>  List.concat |> List.distinct |> List.sort\n",
    "let notes = taggedExpenses|> List.map(fun r -> r.Note) |> List.distinct |> List.sort\n",
    "\n",
    "\n",
    "\n",
    "\"OK\"\n"
   ]
  },
  {
   "cell_type": "markdown",
   "metadata": {},
   "source": [
    "## Existing Notes"
   ]
  },
  {
   "cell_type": "code",
   "execution_count": null,
   "metadata": {},
   "outputs": [],
   "source": [
    "notes |> Display"
   ]
  },
  {
   "cell_type": "markdown",
   "metadata": {},
   "source": [
    "## Existing Tags"
   ]
  },
  {
   "cell_type": "code",
   "execution_count": null,
   "metadata": {},
   "outputs": [],
   "source": [
    "tags |> Display"
   ]
  },
  {
   "cell_type": "markdown",
   "metadata": {},
   "source": [
    "\n",
    "# Helper functions"
   ]
  },
  {
   "cell_type": "code",
   "execution_count": null,
   "metadata": {},
   "outputs": [],
   "source": [
    "(* basic function to compute median value of an ordered list of floats *)\n",
    "let median floats = let l = List.sort floats in \n",
    "                    let length = List.length l in \n",
    "                    if (length % 2) = 0  then ((List.item (length/2-1) l) + (List.item (length/2) l) )/2.\n",
    "                    else float(List.item (length/2) l)\n",
    "\n",
    "\"OK\"\n",
    "\n",
    "(*\n",
    "median [1.;2.;3.;4.;5.;6.]\n",
    "*)\n"
   ]
  },
  {
   "cell_type": "code",
   "execution_count": null,
   "metadata": {
    "scrolled": true
   },
   "outputs": [],
   "source": [
    "(* These are functions related to the building of expenses groups summaries\n",
    "*)\n",
    "\n",
    "(* Record holding count, total amount, median amount and average amount of an expenses group\n",
    "   Usually it will be for expenses with the same not, or expenses with the same tag.\n",
    "   But it should also be usable for expenses grouped per day for example.\n",
    "*)\n",
    "type ExpensesSummary = \n",
    "    { Count: int; \n",
    "      Total: float; \n",
    "      Median: float   } \n",
    "    with member m.Average = m.Total / float(m.Count)\n",
    "\n",
    "(* build Sequence of tuples (expensesGroupName:string,ExpensesSummary)\n",
    "*)\n",
    "\n",
    "let computeExpensesSummaries (l:(string*TaggedExpense list) list) =  l|> List.map (fun  (groupName,expenses)-> \n",
    "                                    (groupName, \n",
    "                                     { Count  = expenses|>List.length;\n",
    "                                       Total  = expenses|>List.sumBy (fun e -> e.Amount);\n",
    "                                       Median = expenses|>List.map (fun e -> e.Amount) |>median\n",
    "                                     }\n",
    "                                    )\n",
    "                                  )\n",
    "\n",
    "\"OK\"\n"
   ]
  },
  {
   "cell_type": "code",
   "execution_count": null,
   "metadata": {
    "scrolled": true
   },
   "outputs": [],
   "source": [
    "(* These are funtions related to bargraphs of expenses\n",
    "\n",
    "*)\n",
    "\n",
    "\n",
    "(* Function displaying a Bar graph of the total amount, with lines for average.\n",
    "  s is of type s:seq<(string,ExpensesSummary)>\n",
    "*)\n",
    "let expensesGroupBarGraph (notesDisplayed:(string*ExpensesSummary) list) = \n",
    "(* Bar graph displaying notes occurences, with labels for total and average amounts *)\n",
    "  let dailyBars = (Bar( x = (notesDisplayed\n",
    "                         |> List.map (fun (note,_) -> note)) , \n",
    "                     y = (notesDisplayed\n",
    "                         |> List.map (fun (_,{Total = v;}) -> v)),\n",
    "                     text = (notesDisplayed\n",
    "                         |> List.map (fun (s,r) -> \n",
    "                                     sprintf \"%s Total: %.2f \\n Avg: %.2f \\n Median: %.2f \\n Count: %i\" s r.Total r.Average r.Median r.Count )),\n",
    "                     marker = Marker(color = \"rgb(105, 133, 180)\")\n",
    "                ) :> Trace)\n",
    "\n",
    "(* Line graph to display average expense for each note *)\n",
    "  let average =\n",
    "    (Scatter(\n",
    "        x = (notesDisplayed\n",
    "                       |> List.map (fun (note,_) -> note)) ,\n",
    "        y = (notesDisplayed\n",
    "                       |> List.map (fun (_,r) -> r.Average)),\n",
    "        name = \"Average\",\n",
    "        mode = \"lines+markers\" ) :> Trace)\n",
    "\n",
    "  let count =\n",
    "    (Scatter(\n",
    "        x = (notesDisplayed\n",
    "                       |> List.map (fun (note,_) -> note)) ,\n",
    "        y = (notesDisplayed\n",
    "                       |> List.map (fun (_,r) -> r.Count)),\n",
    "        name = \"Count\",\n",
    "        line = Line(\n",
    "                  color = \"#77ff00\",\n",
    "                  width = 0.5\n",
    "               ),\n",
    "        mode = \"lines+markers\" ) :> Trace)\n",
    "\n",
    "(* Display a logarithmic scale *)\n",
    "  let layout =\n",
    "    Layout(\n",
    "        title = \"Logarithmic Axes\",\n",
    "        yaxis =\n",
    "            Yaxis(\n",
    "                ``type`` = \"log\",\n",
    "                autorange = true\n",
    "            )\n",
    "     )\n",
    "  [dailyBars;average;count] |> Chart.Plot |> Chart.WithLayout layout\n",
    "\n",
    "\n",
    "\n",
    "\n",
    "\"OK\""
   ]
  },
  {
   "cell_type": "markdown",
   "metadata": {},
   "source": [
    "## Expenses grouped by Note"
   ]
  },
  {
   "cell_type": "markdown",
   "metadata": {},
   "source": [
    "### Parameters"
   ]
  },
  {
   "cell_type": "code",
   "execution_count": null,
   "metadata": {},
   "outputs": [],
   "source": [
    "let minimumOccurencesForDisplay=3"
   ]
  },
  {
   "cell_type": "markdown",
   "metadata": {},
   "source": [
    "### Code and chart"
   ]
  },
  {
   "cell_type": "code",
   "execution_count": null,
   "metadata": {},
   "outputs": [],
   "source": [
    "(* Expenses grouped by note, with their summary built\n",
    "*)\n",
    "\n",
    "let notesExpenses = taggedExpenses \n",
    "                      |> List.groupBy (fun e -> e.Note) \n",
    "                      |> computeExpensesSummaries\n",
    "\n",
    "\n",
    "\n",
    "(* retain only notes with required minimal occurences*)\n",
    "let notesDisplayed = notesExpenses\n",
    "                   |> List.filter (fun (_, {Count = count; }) -> count >= minimumOccurencesForDisplay) \n",
    "                   |> List.sortBy (fun (_, {Total = v;}) -> -v)\n",
    "expensesGroupBarGraph notesDisplayed\n"
   ]
  },
  {
   "cell_type": "markdown",
   "metadata": {},
   "source": [
    "## Expenses grouped by tag\n",
    "### Parameter"
   ]
  },
  {
   "cell_type": "code",
   "execution_count": null,
   "metadata": {},
   "outputs": [],
   "source": [
    "let minimumOccurencesForDisplay=3"
   ]
  },
  {
   "cell_type": "code",
   "execution_count": null,
   "metadata": {},
   "outputs": [],
   "source": [
    "(* Expenses per tag *)\n",
    "\n",
    "(* add `expense` to `acc` *)\n",
    "let rec addTag (acc:(string*TaggedExpense list) list) (expense:TaggedExpense) (tag:string) = \n",
    "  match acc with\n",
    "(*\n",
    "- is is possible to only match on Tag and still have the whole record put in a variable to be used in the body of the match?\n",
    "*)  \n",
    "  (* in the case the tag we want is in the head of the list, we add the expense the the head's expenses list\n",
    "     We can then stop the recursion as we have found the element to update\n",
    "  *)\n",
    "  | (currentTag,expenses) :: tail when currentTag = tag -> (currentTag, expense::expenses) ::tail\n",
    "  (* in this case the first element of acc does not match the tag we want, so we do the recursive call*)\n",
    "  | head :: tail -> head :: addTag tail expense tag\n",
    "  (* tag was not found in acc, so we add it at the end of the list*)\n",
    "  | [] -> ( tag, [ expense ]) :: []\n",
    "\n",
    "\n",
    "(* handle all tags for one expense\n",
    "*)\n",
    "let rec addTagsExpense (expense:TaggedExpense) (tags:string list) (acc:(string*TaggedExpense list) list) = \n",
    "  match tags with\n",
    "  | tag :: tail -> addTag acc expense tag |> addTagsExpense expense tail\n",
    "  | []  -> acc\n",
    "\n",
    "(* acc groups expenses per tag. It is of the form [(tag1, [10.;3.;45.]); (tag2, [3.;4.;76.;6.30]) .... ]\n",
    "   Expenses are recorded under multiple elements of add if it was assigned multiple tags\n",
    "*)\n",
    "let rec tagsExpenses  (l:TaggedExpense list) (acc:(string*TaggedExpense list) list) :((string*TaggedExpense list) list) = \n",
    "  match l with\n",
    "  (* We add the head of the list to acc, and the result is passed as the acc value for the recursive call on tail\n",
    "  *)\n",
    "  | head :: tail -> addTagsExpense head head.Tags acc |> tagsExpenses tail\n",
    "  (* When at the end of the list, return acc *)\n",
    "  | [] -> acc \n",
    "\n",
    "\n",
    "let expensesPerTag = tagsExpenses ( taggedExpenses |> Seq.toList) [] \n",
    "\n",
    "\"OK\""
   ]
  },
  {
   "cell_type": "code",
   "execution_count": null,
   "metadata": {},
   "outputs": [],
   "source": [
    "(* Expenses grouped by note, with their summary built\n",
    "*)\n",
    "let tagsExpenses = expensesPerTag \n",
    "                      |> computeExpensesSummaries\n",
    "\n",
    "\n",
    "\n",
    "(* retain only notes with required minimal occurences*)\n",
    "let tagsDisplayed = tagsExpenses\n",
    "                   |> List.filter (fun (_, {Count = count; }) -> count >= minimumOccurencesForDisplay) \n",
    "                   |> List.sortBy (fun (_, {Total = v;}) -> -v)\n",
    "expensesGroupBarGraph tagsDisplayed\n"
   ]
  },
  {
   "cell_type": "markdown",
   "metadata": {},
   "source": [
    "## Daily expenses\n",
    "\n",
    "Here is a chart representing the total daily expense vs date."
   ]
  },
  {
   "cell_type": "markdown",
   "metadata": {},
   "source": [
    "### Parameters\n",
    "You can filter the expenses displayed in the chart with the filter functions that were defined at the start of the notebook (Section Filter).\n",
    "Add calls to these functions in the pipe computing the value of `dailyExpenses`, which is based initially on `taggedExpenses`.\n",
    "You can also use a logarithmic scale by uncommenting the line\n",
    "```\n",
    "    ``type`` = \"log\",\n",
    "```\n",
    "in the code below.\n"
   ]
  },
  {
   "cell_type": "code",
   "execution_count": null,
   "metadata": {
    "scrolled": false
   },
   "outputs": [],
   "source": [
    "(* Add filters in the next expression to change which expenses are displayed in the chart below.\n",
    "*)\n",
    "let dailyExpenses = taggedExpenses \n",
    "(*\n",
    "                    |> List.filter (tagFinder \"IncludeTag\") \n",
    "                    |> List.filter (tagExcluder \"ExcludeTag\")\n",
    "*)\n",
    "                    |> List.groupBy (fun { Date = it } -> it) \n",
    "                    |> List.map (fun (date, it) ->\n",
    "                                                (date, (it |> List.sumBy (fun { Amount = it } -> it)))\n",
    ")\n",
    "\n",
    "let dates = dailyExpenses |> List.map (fun (date, _) -> date)\n",
    "let expenses = dailyExpenses |> List.map (fun (_, expense) -> expense)\n",
    "\n",
    "let dailyBars = Bar( x=dates, y=expenses)\n",
    "let layout =\n",
    "    Layout(\n",
    "        title = \"Daily Expenses\",\n",
    "        yaxis =\n",
    "            Yaxis(\n",
    "(*                ``type`` = \"log\", *)\n",
    "                autorange = true\n",
    "            )\n",
    "    )\n",
    "dailyBars |> Chart.Plot |> Chart.WithLayout layout\n"
   ]
  },
  {
   "cell_type": "markdown",
   "metadata": {},
   "source": [
    "## Daily Expenses Moving Average\n",
    "When using a moving average, the value of a day is the average over p the previous days, where p is the moving average period. This is super useful if you travel and have some expenses that cover multiple days, eg if you stay in an hotel for a couple of days. It will spread that expense over the moving average period you give.\n",
    "\n",
    "### Parameters\n",
    "You can set the moving average period with the variable `movingAveragePeriod`.\n",
    "You can also use a logarithmic scale by uncommenting the line\n",
    "```\n",
    "    ``type`` = \"log\",\n",
    "```\n",
    "in the code below."
   ]
  },
  {
   "cell_type": "code",
   "execution_count": null,
   "metadata": {},
   "outputs": [],
   "source": [
    "(* You can set a moving average perdiod. \n",
    "*)\n",
    "let movingAveragePeriod = 7"
   ]
  },
  {
   "cell_type": "code",
   "execution_count": null,
   "metadata": {},
   "outputs": [],
   "source": [
    "(* from http://www.fssnip.net/4S/title/Moving-Average , not checked *)\n",
    "let movingAverage (period : int) (values : float seq) =\n",
    "    Seq.zip values (Seq.skip period values)\n",
    "    |> Seq.scan (fun last (prev, cur) -> last - prev + cur) (values |> Seq.take period |> Seq.sum)\n",
    "    |> Seq.map (fun x -> x / float(period))\n",
    "\n",
    "(*\n",
    "[3.;4.;5.;7.;3.;8.;5.;9.;1.;5.;3.] |> movingAverage 2\n",
    "*)\n",
    "\n",
    "\"OK\""
   ]
  },
  {
   "cell_type": "code",
   "execution_count": null,
   "metadata": {},
   "outputs": [],
   "source": [
    "\n",
    "\n",
    "let movingAverage (period : int) (values : float seq) =\n",
    "    Seq.zip values (Seq.skip period values)\n",
    "    |> Seq.scan (fun last (prev, cur) -> last - prev + cur) (values |> Seq.take period |> Seq.sum)\n",
    "    |> Seq.map (fun x -> x / float(period))\n",
    "\n",
    "\n",
    "\n",
    "let dates = dailyExpenses |> List.map (fun (date, _) -> date)\n",
    "let expenses = dailyExpenses |> List.map (fun (_, expense) -> expense) |> List.toSeq |> movingAverage movingAveragePeriod |> Seq.toList\n",
    "\n",
    "let dailyBars = Bar( x=dates, y=expenses)\n",
    "let layout =\n",
    "    Layout(\n",
    "        title = sprintf \"Daily Expenses, Moving Average (%d days period)\" movingAveragePeriod,\n",
    "        yaxis =\n",
    "            Yaxis(\n",
    "(*                ``type`` = \"log\", *)\n",
    "                autorange = true\n",
    "            )\n",
    "    )\n",
    "dailyBars |> Chart.Plot |> Chart.WithLayout layout\n"
   ]
  },
  {
   "cell_type": "markdown",
   "metadata": {},
   "source": [
    "# Expenses Visualisation\n",
    "\n",
    "Below is a scatter plot of expense amount vs date.\n",
    "This possibly will let you identify what king of expenses are most common."
   ]
  },
  {
   "cell_type": "code",
   "execution_count": null,
   "metadata": {},
   "outputs": [],
   "source": [
    "let b = Scatter( x=(taggedExpenses|> List.map(fun r -> r.Date)), \n",
    "                 y=(taggedExpenses|> List.map(fun r -> r.Amount)), \n",
    "                 mode = \"markers\",\n",
    "                 marker=Marker(\n",
    "                  color = \"rgb(142, 124, 195)\",\n",
    "                  size = 5\n",
    "                 )\n",
    "        )\n",
    "\n",
    "let styledLayout =\n",
    "    Layout(\n",
    "        title = \"All Expenses Scatter Plot\",\n",
    "        xaxis =\n",
    "            Xaxis(\n",
    "                title = \"Date\",\n",
    "                showgrid = true,\n",
    "                zeroline = false\n",
    "            ),\n",
    "        yaxis =\n",
    "            Yaxis(\n",
    "                title = \"€\"\n",
    "(*                ``type`` = \"log\" *)\n",
    "            )\n",
    "    )\n",
    "b |> Chart.Plot |> Chart.WithLayout styledLayout"
   ]
  }
 ],
 "metadata": {
  "kernelspec": {
   "display_name": "F#",
   "language": "fsharp",
   "name": "ifsharp"
  },
  "language": "fsharp",
  "language_info": {
   "codemirror_mode": "",
   "file_extension": ".fs",
   "mimetype": "text/x-fsharp",
   "name": "fsharp",
   "nbconvert_exporter": "",
   "pygments_lexer": "",
   "version": "4.3.1.0"
  }
 },
 "nbformat": 4,
 "nbformat_minor": 2
}
